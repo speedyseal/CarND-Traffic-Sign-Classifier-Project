{
 "cells": [
  {
   "cell_type": "markdown",
   "metadata": {},
   "source": [
    "# Self-Driving Car Engineer Nanodegree\n",
    "\n",
    "## Deep Learning\n",
    "\n",
    "## Project: Build a Traffic Sign Recognition Classifier\n",
    "\n",
    "In this notebook, a template is provided for you to implement your functionality in stages, which is required to successfully complete this project. If additional code is required that cannot be included in the notebook, be sure that the Python code is successfully imported and included in your submission if necessary. \n",
    "\n",
    "> **Note**: Once you have completed all of the code implementations, you need to finalize your work by exporting the iPython Notebook as an HTML document. Before exporting the notebook to html, all of the code cells need to have been run so that reviewers can see the final implementation and output. You can then export the notebook by using the menu above and navigating to  \\n\",\n",
    "    \"**File -> Download as -> HTML (.html)**. Include the finished document along with this notebook as your submission. \n",
    "\n",
    "In addition to implementing code, there is a writeup to complete. The writeup should be completed in a separate file, which can be either a markdown file or a pdf document. There is a [write up template](https://github.com/udacity/CarND-Traffic-Sign-Classifier-Project/blob/master/writeup_template.md) that can be used to guide the writing process. Completing the code template and writeup template will cover all of the [rubric points](https://review.udacity.com/#!/rubrics/481/view) for this project.\n",
    "\n",
    "The [rubric](https://review.udacity.com/#!/rubrics/481/view) contains \"Stand Out Suggestions\" for enhancing the project beyond the minimum requirements. The stand out suggestions are optional. If you decide to pursue the \"stand out suggestions\", you can include the code in this Ipython notebook and also discuss the results in the writeup file.\n",
    "\n",
    "\n",
    ">**Note:** Code and Markdown cells can be executed using the **Shift + Enter** keyboard shortcut. In addition, Markdown cells can be edited by typically double-clicking the cell to enter edit mode.\n",
    "\n",
    "## Todo:\n",
    "- Different architectures\n",
    "- Changing dimensions of Lenet layers\n",
    "- Regularization\n",
    " - Dropout\n",
    " - L2\n",
    "- tune hyperparameters\n",
    "- Preprocess:\n",
    " - normalization\n",
    " - augmenting using scikit\n",
    " - convert to HSV\n",
    " - histogram equalization of V portion of HSV\n"
   ]
  },
  {
   "cell_type": "markdown",
   "metadata": {},
   "source": [
    "---\n",
    "## Step 0: Load The Data"
   ]
  },
  {
   "cell_type": "code",
   "execution_count": 1,
   "metadata": {
    "collapsed": true
   },
   "outputs": [],
   "source": [
    "# Load pickled data\n",
    "import pickle\n",
    "\n",
    "# TODO: Fill this in based on where you saved the training and testing data\n",
    "\n",
    "# run Traffic_Sign_Classifier-convertToHSV.ipynb to get preprocessed image data in hsv\n",
    "\n",
    "training_file = \"traffic-signs-data/train_hsv.p\"\n",
    "validation_file= \"traffic-signs-data/valid_hsv.p\"\n",
    "testing_file = \"traffic-signs-data/test_hsv.p\"\n",
    "\n",
    "with open(training_file, mode='rb') as f:\n",
    "    train = pickle.load(f)\n",
    "with open(validation_file, mode='rb') as f:\n",
    "    valid = pickle.load(f)\n",
    "with open(testing_file, mode='rb') as f:\n",
    "    test = pickle.load(f)\n",
    "    \n",
    "X_train, y_train = train['features'], train['labels']\n",
    "X_valid, y_valid = valid['features'], valid['labels']\n",
    "X_test, y_test = test['features'], test['labels']"
   ]
  },
  {
   "cell_type": "markdown",
   "metadata": {},
   "source": [
    "---\n",
    "\n",
    "## Step 1: Dataset Summary & Exploration\n",
    "\n",
    "The pickled data is a dictionary with 4 key/value pairs:\n",
    "\n",
    "- `'features'` is a 4D array containing raw pixel data of the traffic sign images, (num examples, width, height, channels).\n",
    "- `'labels'` is a 1D array containing the label/class id of the traffic sign. The file `signnames.csv` contains id -> name mappings for each id.\n",
    "- `'sizes'` is a list containing tuples, (width, height) representing the original width and height the image.\n",
    "- `'coords'` is a list containing tuples, (x1, y1, x2, y2) representing coordinates of a bounding box around the sign in the image. **THESE COORDINATES ASSUME THE ORIGINAL IMAGE. THE PICKLED DATA CONTAINS RESIZED VERSIONS (32 by 32) OF THESE IMAGES**\n",
    "\n",
    "Complete the basic data summary below. Use python, numpy and/or pandas methods to calculate the data summary rather than hard coding the results. For example, the [pandas shape method](http://pandas.pydata.org/pandas-docs/stable/generated/pandas.DataFrame.shape.html) might be useful for calculating some of the summary results. "
   ]
  },
  {
   "cell_type": "markdown",
   "metadata": {},
   "source": [
    "### Provide a Basic Summary of the Data Set Using Python, Numpy and/or Pandas"
   ]
  },
  {
   "cell_type": "code",
   "execution_count": 2,
   "metadata": {},
   "outputs": [
    {
     "name": "stdout",
     "output_type": "stream",
     "text": [
      "X_Train shape\n",
      "(34799, 32, 32, 3)\n",
      "\n",
      "y_train shape\n",
      "(34799,)\n",
      "\n",
      "X_Valid shape\n",
      "(4410, 32, 32, 3)\n",
      "y_valid shape\n",
      "(4410,)\n",
      "\n",
      "X_Test shape\n",
      "(12630, 32, 32, 3)\n",
      "y_test shape\n",
      "(12630,)\n",
      "\n",
      "(32, 32)\n",
      "[[ 8  8 12 ..., 15 10  6]\n",
      " [ 8 15 15 ..., 15 13 12]\n",
      " [ 0 15 20 ..., 15 13 12]\n",
      " ..., \n",
      " [ 8  8  5 ...,  8 10 13]\n",
      " [ 0  0  4 ...,  8 10 13]\n",
      " [ 0  0  3 ..., 12 10 10]]\n"
     ]
    }
   ],
   "source": [
    "print(\"X_Train shape\")\n",
    "print(X_train.shape)\n",
    "print()\n",
    "print(\"y_train shape\")\n",
    "print(y_train.shape)\n",
    "print()\n",
    "\n",
    "print(\"X_Valid shape\")\n",
    "print(X_valid.shape)\n",
    "print(\"y_valid shape\")\n",
    "print(y_valid.shape)\n",
    "print()\n",
    "\n",
    "print(\"X_Test shape\")\n",
    "print(X_test.shape)\n",
    "print(\"y_test shape\")\n",
    "print(y_test.shape)\n",
    "print()\n",
    "\n",
    "print(X_train.shape[1:3])\n",
    "\n",
    "print(X_train[0,:,:,0])\n"
   ]
  },
  {
   "cell_type": "code",
   "execution_count": 3,
   "metadata": {},
   "outputs": [
    {
     "name": "stdout",
     "output_type": "stream",
     "text": [
      "Number of training examples = 34799\n",
      "Number of validation examples = 4410\n",
      "Number of testing examples = 12630\n",
      "Image data shape = (32, 32)\n",
      "Number of classes = 43\n",
      "Number of color channels =  3\n",
      "[[ 8  8 12 ..., 15 10  6]\n",
      " [ 8 15 15 ..., 15 13 12]\n",
      " [ 0 15 20 ..., 15 13 12]\n",
      " ..., \n",
      " [ 8  8  5 ...,  8 10 13]\n",
      " [ 0  0  4 ...,  8 10 13]\n",
      " [ 0  0  3 ..., 12 10 10]]\n",
      "[[36 38 47 ..., 64 49 41]\n",
      " [35 38 38 ..., 64 58 43]\n",
      " [18 38 29 ..., 64 58 43]\n",
      " ..., \n",
      " [38 36 51 ..., 38 55 62]\n",
      " [46 44 58 ..., 38 55 64]\n",
      " [53 51 72 ..., 47 57 59]]\n",
      "[[ 49  24  24 ..., 116 106 106]\n",
      " [ 68  24  24 ..., 116 106  85]\n",
      " [ 49  24   9 ..., 116 106  85]\n",
      " ..., \n",
      " [ 24  49  85 ...,  24  49  68]\n",
      " [ 49  68 106 ...,  24  49  49]\n",
      " [ 68  85 116 ...,  24  24   9]]\n"
     ]
    }
   ],
   "source": [
    "### Replace each question mark with the appropriate value. \n",
    "### Use python, pandas or numpy methods rather than hard coding the results\n",
    "import numpy as np\n",
    "import cv2\n",
    "\n",
    "from sklearn.model_selection import train_test_split\n",
    "import tensorflow as tf\n",
    "\n",
    "KERAS = False\n",
    "\n",
    "# float for keras\n",
    "if KERAS:\n",
    "    X_train, y_train = train['features'].astype('float32'), train['labels'].astype('float32')\n",
    "    X_valid, y_valid = valid['features'].astype('float32'), valid['labels'].astype('float32')\n",
    "    X_test, y_test = test['features'].astype('float32'), test['labels'].astype('float32')\n",
    "else:\n",
    "    X_train = train['features']\n",
    "    y_train = train['labels']\n",
    "\n",
    "    X_valid = valid['features']\n",
    "    y_valid = valid['labels']\n",
    "\n",
    "    X_test = test['features']\n",
    "    y_test = test['labels']\n",
    "\n",
    "\n",
    "def preprocess(img):\n",
    "    img[:,:,2] = cv2.equalizeHist(img[:,:,2])\n",
    "    return img\n",
    "\n",
    "for i in range(X_train.shape[0]):\n",
    "    X_train[i,:,:,:] = preprocess(X_train[i,:,:,:])\n",
    "for i in range(X_valid.shape[0]):\n",
    "    X_valid[i,:,:,:] = preprocess(X_valid[i,:,:,:])\n",
    "for i in range(X_test.shape[0]):\n",
    "    X_test[i,:,:,:] = preprocess(X_test[i,:,:,:])\n",
    "\n",
    "# TODO: Number of training examples\n",
    "n_train = X_train.shape[0]\n",
    "\n",
    "# TODO: Number of validation examples\n",
    "n_validation = X_valid.shape[0]\n",
    "\n",
    "# TODO: Number of testing examples.\n",
    "n_test = X_test.shape[0]\n",
    "\n",
    "# TODO: What's the shape of an traffic sign image?\n",
    "image_shape = X_train.shape[1:3]\n",
    "\n",
    "# TODO: How many unique classes/labels there are in the dataset.\n",
    "n_classes = len(np.unique( y_train))\n",
    "\n",
    "n_colors = X_train.shape[3]\n",
    "\n",
    "print(\"Number of training examples =\", n_train)\n",
    "print(\"Number of validation examples =\", n_validation)\n",
    "print(\"Number of testing examples =\", n_test)\n",
    "print(\"Image data shape =\", image_shape)\n",
    "print(\"Number of classes =\", n_classes)\n",
    "print(\"Number of color channels = \", n_colors)\n",
    "\n",
    "print(X_train[0,:,:,0])\n",
    "print(X_train[0,:,:,1])\n",
    "print(X_train[0,:,:,2])"
   ]
  },
  {
   "cell_type": "markdown",
   "metadata": {},
   "source": [
    "### Include an exploratory visualization of the dataset"
   ]
  },
  {
   "cell_type": "markdown",
   "metadata": {},
   "source": [
    "Visualize the German Traffic Signs Dataset using the pickled file(s). This is open ended, suggestions include: plotting traffic sign images, plotting the count of each sign, etc. \n",
    "\n",
    "The [Matplotlib](http://matplotlib.org/) [examples](http://matplotlib.org/examples/index.html) and [gallery](http://matplotlib.org/gallery.html) pages are a great resource for doing visualizations in Python.\n",
    "\n",
    "**NOTE:** It's recommended you start with something simple first. If you wish to do more, come back to it after you've completed the rest of the sections. It can be interesting to look at the distribution of classes in the training, validation and test set. Is the distribution the same? Are there more examples of some classes than others?"
   ]
  },
  {
   "cell_type": "code",
   "execution_count": 4,
   "metadata": {},
   "outputs": [
    {
     "data": {
      "image/png": "[encoded data removed]",
      "text/plain": [
       "<matplotlib.figure.Figure at 0x7fd4a799d208>"
      ]
     },
     "metadata": {},
     "output_type": "display_data"
    },
    {
     "data": {
      "image/png": "[encoded data removed]",
      "text/plain": [
       "<matplotlib.figure.Figure at 0x7fd4a37e3b00>"
      ]
     },
     "metadata": {},
     "output_type": "display_data"
    },
    {
     "data": {
      "image/png": "[encoded data removed]",
      "text/plain": [
       "<matplotlib.figure.Figure at 0x7fd4a3851a20>"
      ]
     },
     "metadata": {},
     "output_type": "display_data"
    },
    {
     "data": {
      "image/png": "[encoded data removed]",
      "text/plain": [
       "<matplotlib.figure.Figure at 0x7fd4a38288d0>"
      ]
     },
     "metadata": {},
     "output_type": "display_data"
    },
    {
     "data": {
      "image/png": "[encoded data removed]",
      "text/plain": [
       "<matplotlib.figure.Figure at 0x7fd4a35e8898>"
      ]
     },
     "metadata": {},
     "output_type": "display_data"
    },
    {
     "data": {
      "image/png": "[encoded data removed]",
      "text/plain": [
       "<matplotlib.figure.Figure at 0x7fd4a347d0b8>"
      ]
     },
     "metadata": {},
     "output_type": "display_data"
    }
   ],
   "source": [
    "### Data exploration visualization code goes here.\n",
    "### Feel free to use as many code cells as needed.\n",
    "import matplotlib.pyplot as plt\n",
    "from matplotlib.colors import hsv_to_rgb\n",
    "%matplotlib inline\n",
    "\n",
    "plt.subplot(1,3,1)\n",
    "idx = 0\n",
    "plt.imshow(hsv_to_rgb(X_train[idx,:,:,:]/255.))\n",
    "plt.axis('off')\n",
    "plt.title('{}'.format(y_train[idx]))\n",
    "\n",
    "plt.subplot(1,3,2)\n",
    "idx = 101\n",
    "plt.imshow(hsv_to_rgb(X_train[idx,:,:,:]/255.))\n",
    "plt.axis('off')\n",
    "plt.title('{}'.format(y_train[idx]))\n",
    "\n",
    "plt.subplot(1,3,3)\n",
    "idx = 102\n",
    "plt.imshow(hsv_to_rgb(X_train[idx,:,:,:]/255.))\n",
    "plt.axis('off')\n",
    "plt.title('{}'.format(y_train[idx]))\n",
    "plt.show()\n",
    "\n",
    "\n",
    "SUBPLOTCOLS = 3\n",
    "for i in range(5):\n",
    "    for j in range(SUBPLOTCOLS):\n",
    "        idx = np.random.randint(0, n_train)\n",
    "        img = X_train[idx,:,:,:]\n",
    "        # Visualizations will be shown in the notebook.\n",
    "        ax = plt.subplot(1,SUBPLOTCOLS,j+1)\n",
    "        plt.title(\"idx {}, cat {}\".format(idx, y_train[idx]))\n",
    "        plt.imshow(hsv_to_rgb(img/255.))\n",
    "        plt.axis('off')\n",
    "    plt.show()"
   ]
  },
  {
   "cell_type": "code",
   "execution_count": 5,
   "metadata": {},
   "outputs": [
    {
     "name": "stdout",
     "output_type": "stream",
     "text": [
      "23730\n"
     ]
    },
    {
     "data": {
      "text/plain": [
       "<matplotlib.image.AxesImage at 0x7fd4a3329908>"
      ]
     },
     "execution_count": 5,
     "metadata": {},
     "output_type": "execute_result"
    },
    {
     "data": {
      "image/png": "[encoded data removed]",
      "text/plain": [
       "<matplotlib.figure.Figure at 0x7fd4f80ae6a0>"
      ]
     },
     "metadata": {},
     "output_type": "display_data"
    }
   ],
   "source": [
    "firstcat2 = np.nonzero(y_train == 7)[0][0]\n",
    "print(firstcat2)\n",
    "img = X_train[firstcat2,:,:,:]\n",
    "plt.imshow(hsv_to_rgb(img/255.))"
   ]
  },
  {
   "cell_type": "code",
   "execution_count": 6,
   "metadata": {},
   "outputs": [
    {
     "data": {
      "image/png": "[encoded data removed]",
      "text/plain": [
       "<matplotlib.figure.Figure at 0x7fd4a32cc6a0>"
      ]
     },
     "metadata": {},
     "output_type": "display_data"
    }
   ],
   "source": [
    "n, bins, patches = plt.hist(y_train, n_classes)\n",
    "plt.xlabel('Class');\n",
    "plt.ylabel('Frequency');\n",
    "plt.title('training set');"
   ]
  },
  {
   "cell_type": "code",
   "execution_count": 7,
   "metadata": {},
   "outputs": [
    {
     "data": {
      "image/png": "[encoded data removed]",
      "text/plain": [
       "<matplotlib.figure.Figure at 0x7fd4a348bfd0>"
      ]
     },
     "metadata": {},
     "output_type": "display_data"
    }
   ],
   "source": [
    "n, bins, patches = plt.hist(y_valid, n_classes)\n",
    "plt.xlabel('Class');\n",
    "plt.ylabel('Frequency');\n",
    "plt.title('validation set');"
   ]
  },
  {
   "cell_type": "code",
   "execution_count": 8,
   "metadata": {},
   "outputs": [
    {
     "data": {
      "image/png": "[encoded data removed]",
      "text/plain": [
       "<matplotlib.figure.Figure at 0x7fd4a38469e8>"
      ]
     },
     "metadata": {},
     "output_type": "display_data"
    }
   ],
   "source": [
    "n, bins, patches = plt.hist(y_test, n_classes)\n",
    "plt.xlabel('Class');\n",
    "plt.ylabel('Frequency');\n",
    "plt.title('test set');"
   ]
  },
  {
   "cell_type": "markdown",
   "metadata": {},
   "source": [
    "----\n",
    "\n",
    "## Step 2: Design and Test a Model Architecture\n",
    "\n",
    "Design and implement a deep learning model that learns to recognize traffic signs. Train and test your model on the [German Traffic Sign Dataset](http://benchmark.ini.rub.de/?section=gtsrb&subsection=dataset).\n",
    "\n",
    "The LeNet-5 implementation shown in the [classroom](https://classroom.udacity.com/nanodegrees/nd013/parts/fbf77062-5703-404e-b60c-95b78b2f3f9e/modules/6df7ae49-c61c-4bb2-a23e-6527e69209ec/lessons/601ae704-1035-4287-8b11-e2c2716217ad/concepts/d4aca031-508f-4e0b-b493-e7b706120f81) at the end of the CNN lesson is a solid starting point. You'll have to change the number of classes and possibly the preprocessing, but aside from that it's plug and play! \n",
    "\n",
    "With the LeNet-5 solution from the lecture, you should expect a validation set accuracy of about 0.89. To meet specifications, the validation set accuracy will need to be at least 0.93. It is possible to get an even higher accuracy, but 0.93 is the minimum for a successful project submission. \n",
    "\n",
    "There are various aspects to consider when thinking about this problem:\n",
    "\n",
    "- Neural network architecture (is the network over or underfitting?)\n",
    "- Play around preprocessing techniques (normalization, rgb to grayscale, etc)\n",
    "- Number of examples per label (some have more than others).\n",
    "- Generate fake data.\n",
    "\n",
    "Here is an example of a [published baseline model on this problem](http://yann.lecun.com/exdb/publis/pdf/sermanet-ijcnn-11.pdf). It's not required to be familiar with the approach used in the paper but, it's good practice to try to read papers like these."
   ]
  },
  {
   "cell_type": "markdown",
   "metadata": {},
   "source": [
    "### Pre-process the Data Set (normalization, grayscale, etc.)"
   ]
  },
  {
   "cell_type": "markdown",
   "metadata": {},
   "source": [
    "Minimally, the image data should be normalized so that the data has mean zero and equal variance. For image data, `(pixel - 128)/ 128` is a quick way to approximately normalize the data and can be used in this project. \n",
    "\n",
    "Other pre-processing steps are optional. You can try different techniques to see if it improves performance. \n",
    "\n",
    "Use the code cell (or multiple code cells, if necessary) to implement the first step of your project."
   ]
  },
  {
   "cell_type": "code",
   "execution_count": 9,
   "metadata": {},
   "outputs": [
    {
     "name": "stdout",
     "output_type": "stream",
     "text": [
      "(34799, 32, 32, 3)\n",
      "(34799,)\n"
     ]
    }
   ],
   "source": [
    "### balance the class frequency\n",
    "\n",
    "# augment each class with randomly sampled instances from same class.\n",
    "# add augmentation via keras to all classes later.\n",
    "\n",
    "X_per_class = []\n",
    "print(X_train.shape)\n",
    "print(y_train.shape)\n",
    "for i in np.arange(n_classes):\n",
    "    X_per_class.append(X_train[y_train==i,:,:,:])"
   ]
  },
  {
   "cell_type": "code",
   "execution_count": 10,
   "metadata": {
    "collapsed": true
   },
   "outputs": [],
   "source": [
    "# for x in X_per_class:\n",
    "#     img = x[0,:,:,:]\n",
    "#     plt.imshow(hsv_to_rgb(img/255.))\n",
    "#     plt.axis('off')\n",
    "#     plt.show()"
   ]
  },
  {
   "cell_type": "code",
   "execution_count": null,
   "metadata": {
    "collapsed": true
   },
   "outputs": [],
   "source": [
    "### balance by oversample\n",
    "# n_per_class = np.array([x.shape[0] for x in X_per_class])\n",
    "# # print(n_per_class)\n",
    "# n_max = np.max(n_per_class)\n",
    "\n",
    "# X_train_new = np.zeros((n_max*n_classes, X_train.shape[1], X_train.shape[2], X_train.shape[3]), np.float32)\n",
    "# y_train_new = np.zeros(n_max*n_classes, np.uint8)\n",
    "\n",
    "# for i in np.arange(n_classes):\n",
    "#     start_offset = i*n_max\n",
    "#     n = n_per_class[i]\n",
    "#     X = X_per_class[i]\n",
    "#     X_train_new[start_offset:start_offset+n,:,:,:] = X\n",
    "#     n_to_sample = n_max - n\n",
    "#     oversamples = np.random.choice(n, size=n_to_sample, replace= n_to_sample > n)\n",
    "#     X_train_new[start_offset+n:start_offset+n_max,:,:,:] = X[oversamples,:,:,:]\n",
    "#     y_train_new[start_offset:start_offset+n_max] = i"
   ]
  },
  {
   "cell_type": "code",
   "execution_count": null,
   "metadata": {},
   "outputs": [
    {
     "name": "stderr",
     "output_type": "stream",
     "text": [
      "Using TensorFlow backend.\n"
     ]
    }
   ],
   "source": [
    "### balance by augmentation\n",
    "import keras\n",
    "from keras.preprocessing.image import ImageDataGenerator\n",
    "\n",
    "n_per_class = np.array([x.shape[0] for x in X_per_class])\n",
    "# print(n_per_class)\n",
    "n_max = np.max(n_per_class)*3\n",
    "\n",
    "X_train_new = np.zeros((n_max*n_classes, X_train.shape[1], X_train.shape[2], X_train.shape[3]), np.float32)\n",
    "y_train_new = np.zeros(n_max*n_classes, np.uint8)\n",
    "\n",
    "for i in range(n_classes):\n",
    "    start_offset = i*n_max\n",
    "    n = n_per_class[i]\n",
    "    X = X_per_class[i]\n",
    "    X_train_new[start_offset:start_offset+n,:,:,:] = X\n",
    "    n_to_sample = n_max - n\n",
    "    y_train_new[start_offset:start_offset+n_max] = i\n",
    "    \n",
    "    datagen = ImageDataGenerator(\n",
    "        featurewise_center=False,\n",
    "        featurewise_std_normalization=False,\n",
    "        rotation_range=10.,\n",
    "        shear_range=3./180.*np.pi,\n",
    "        zoom_range=0.05,\n",
    "        channel_shift_range=2.,\n",
    "        width_shift_range=0.1,\n",
    "        height_shift_range=0.1,\n",
    "        horizontal_flip=False,\n",
    "    #     rescale=1./255.\n",
    "    )\n",
    "    datagen.fit(X.astype('float32'))\n",
    "    \n",
    "    j = 0\n",
    "    nbatches = n_to_sample // n\n",
    "    endi = start_offset+n\n",
    "    for j in range(nbatches):\n",
    "        x_batch, y_batch = datagen.flow(X, y_train_new[start_offset:start_offset+n], batch_size=n).next()\n",
    "        starti = start_offset+n+j*n\n",
    "        endi = starti+n\n",
    "        X_train_new[starti:endi,:,:,:] = x_batch\n",
    "    nremaining = start_offset + n_max - endi\n",
    "    x_batch, y_batch = datagen.flow(X, y_train_new[start_offset:start_offset+n], batch_size=nremaining).next()\n",
    "    starti = endi\n",
    "    endi = start_offset+n_max\n",
    "    X_train_new[starti:endi,:,:,:] = x_batch\n",
    "\n"
   ]
  },
  {
   "cell_type": "code",
   "execution_count": null,
   "metadata": {
    "scrolled": true
   },
   "outputs": [],
   "source": [
    "print(i)\n",
    "print(endi)\n",
    "print(starti)\n",
    "print(nbatches)\n",
    "print(start_offset)\n",
    "print(n_max)\n",
    "print(\"n_to_sample:\",n_to_sample)\n",
    "print(\"start_offset:\",start_offset)\n",
    "print(\"n_max:\",n_max)\n",
    "print(\"n:\",n)\n",
    "print(\"y_train.shape:\",y_train.shape)\n",
    "print(\"y_train_new.shape:\",y_train_new.shape)\n",
    "print(\"y_train.dtype:\",y_train.dtype)\n",
    "print(\"x_batch.shape:\",x_batch.shape)\n",
    "print(\"X.shape:\",X.shape)\n",
    "\n",
    "imglist = []\n",
    "for i in range(n_classes):\n",
    "    imglist.append(i*n_max)\n",
    "    imglist.append(i*n_max+n_max-1)\n",
    "\n",
    "SUBPLOTCOLS = 8\n",
    "for idx,i in enumerate(imglist):\n",
    "    img = X_train_new[i,:,:,:]\n",
    "    plt.figure(1, figsize=(15,15))\n",
    "    ax = plt.subplot(12,SUBPLOTCOLS,idx+1)\n",
    "\n",
    "    plt.imshow(hsv_to_rgb(img/255.))\n",
    "    plt.axis('off')\n",
    "    plt.title(\"ind:{} cat:{}\".format(i,y_train_new[i]))\n",
    "plt.show()\n"
   ]
  },
  {
   "cell_type": "code",
   "execution_count": null,
   "metadata": {},
   "outputs": [],
   "source": [
    "### Preprocess the data here. It is required to normalize the data. Other preprocessing steps could include \n",
    "### converting to grayscale, etc.\n",
    "### Feel free to use as many code cells as needed.\n",
    "\n",
    "from sklearn.utils import shuffle\n",
    "\n",
    "X_train, X_validationPre, y_train, y_validation = train_test_split(X_train_new, y_train_new, test_size=0.15)\n",
    "\n",
    "print(\"X_train shape: {}\".format(X_train.shape))\n",
    "print(\"X_test shape: {}\".format(X_test.shape))\n",
    "\n",
    "\n",
    "if not KERAS:\n",
    "    X_train, y_train = shuffle(X_train, y_train)\n",
    "    \n",
    "    X_train = (X_train - 128.) / 128.\n",
    "\n",
    "    X_validation = (X_validationPre - 128.) / 128.\n",
    "\n",
    "    X_valid = (X_valid - 128.) / 128.\n",
    "\n",
    "    X_test = (X_test - 128.) / 128.\n",
    "\n",
    "    print('X_train0')\n",
    "    print(X_train[0,:,:,0])\n",
    "    print('X_validation')    \n",
    "    print(X_validation[0,:,:,0])"
   ]
  },
  {
   "cell_type": "code",
   "execution_count": null,
   "metadata": {
    "scrolled": false
   },
   "outputs": [],
   "source": [
    "import keras\n",
    "from keras.preprocessing.image import ImageDataGenerator\n",
    "\n",
    "if KERAS:\n",
    "    datagen = ImageDataGenerator(\n",
    "        featurewise_center=True,\n",
    "        featurewise_std_normalization=True,\n",
    "        rotation_range=20,\n",
    "        width_shift_range=0.2,\n",
    "        height_shift_range=0.2,\n",
    "        horizontal_flip=False,\n",
    "    #     rescale=1./255.\n",
    "    )\n",
    "\n",
    "    print(\"dtype: {}\".format(X_train.dtype))\n",
    "\n",
    "    # compute quantities required for featurewise normalization\n",
    "    # (std, mean, and principal components if ZCA whitening is applied)\n",
    "    datagen.fit(X_train.astype('float32'))\n",
    "\n",
    "    X_validation = datagen.standardize(X_validationPre.astype('float32'))\n",
    "\n",
    "    # here's a more \"manual\" example\n",
    "    batches = 0\n",
    "    for X_batch, Y_batch in datagen.flow(X_train, y_train, batch_size=32):\n",
    "    #         loss = model.train(X_batch, Y_batch)\n",
    "        for p in range(4*4):\n",
    "            plt.subplot(4,4,p+1)\n",
    "            plt.imshow(hsv_to_rgb(X_batch[p]*0.5+0.5))\n",
    "            plt.axis('off')\n",
    "        plt.show()\n",
    "\n",
    "        for p in range(4*4):\n",
    "            plt.subplot(4,4,p+1)\n",
    "            plt.imshow(hsv_to_rgb(X_batch[p+4*4]*0.5+0.5))\n",
    "            plt.axis('off')\n",
    "        plt.show()\n",
    "\n",
    "        batches += 1\n",
    "        if batches >= len(X_train) / 32:\n",
    "            # we need to break the loop by hand because\n",
    "            # the generator loops indefinitely\n",
    "            break\n",
    "        if batches >= 2:\n",
    "            # we need to break the loop by hand because\n",
    "            # the generator loops indefinitely\n",
    "            break\n",
    "    print(X_batch[0,:,:,0])\n",
    "\n",
    "\n",
    "    print(\"Scaled validation set\")\n",
    "    SUBPLOTCOLS = 3\n",
    "    for i in range(5):\n",
    "        for j in range(SUBPLOTCOLS):\n",
    "            idx = np.random.randint(0, X_validation.shape[0])\n",
    "            img = X_validation[idx,:,:,:]\n",
    "            # Visualizations will be shown in the notebook.\n",
    "            ax = plt.subplot(1,SUBPLOTCOLS,j+1)\n",
    "            plt.title(\"idx {}\".format(idx))\n",
    "            plt.imshow(hsv_to_rgb(img*0.5+0.5))\n",
    "            plt.axis('off')\n",
    "        plt.show()\n",
    "\n",
    "    print(X_validation[0,:,:,0])"
   ]
  },
  {
   "cell_type": "code",
   "execution_count": null,
   "metadata": {},
   "outputs": [],
   "source": [
    "### visualize random preprocessed images\n",
    "SUBPLOTCOLS = 8\n",
    "for i in range(3):\n",
    "    for j in range(SUBPLOTCOLS):\n",
    "        idx = np.random.randint(0, n_train)\n",
    "        img = X_train[idx,:,:,:]\n",
    "        # Visualizations will be shown in the notebook.\n",
    "        plt.figure(1, figsize=(15,15))\n",
    "        ax = plt.subplot(1,SUBPLOTCOLS,j+1)\n",
    "        plt.title(\"i {}, c {}\".format(idx, y_train[idx]))\n",
    "        plt.imshow(hsv_to_rgb(img*0.5+0.5))\n",
    "        plt.axis('off')\n",
    "    plt.show()\n",
    "    \n",
    "### y_train is now more or less uniformly distributed\n",
    "n, bins, patches = plt.hist(y_train, n_classes)\n",
    "plt.xlabel('Class');\n",
    "plt.ylabel('Frequency');\n",
    "plt.title('training set');"
   ]
  },
  {
   "cell_type": "markdown",
   "metadata": {},
   "source": [
    "### Model Architecture"
   ]
  },
  {
   "cell_type": "code",
   "execution_count": null,
   "metadata": {
    "collapsed": true
   },
   "outputs": [],
   "source": [
    "import tensorflow as tf\n",
    "\n",
    "### Define your architecture here.\n",
    "### Feel free to use as many code cells as needed.\n",
    "from tensorflow.contrib.layers import flatten\n",
    "\n",
    "def variable_summaries(var):\n",
    "  \"\"\"Attach a lot of summaries to a Tensor (for TensorBoard visualization).\"\"\"\n",
    "  with tf.name_scope('summaries'):\n",
    "    mean = tf.reduce_mean(var)\n",
    "    tf.summary.scalar('mean', mean)\n",
    "    with tf.name_scope('stddev'):\n",
    "      stddev = tf.sqrt(tf.reduce_mean(tf.square(var - mean)))\n",
    "    tf.summary.scalar('stddev', stddev)\n",
    "    tf.summary.scalar('max', tf.reduce_max(var))\n",
    "    tf.summary.scalar('min', tf.reduce_min(var))\n",
    "    tf.summary.histogram('histogram', var)\n",
    "\n",
    "def LeNet(x, keep_prob):    \n",
    "    # Arguments used for tf.truncated_normal, randomly defines variables for the weights and biases for each layer\n",
    "    mu = 0\n",
    "    sigma = 0.1\n",
    "    sizeFactor = 1\n",
    "    \n",
    "    # Layer 1: Convolutional. Input = 32x32x1. Output = 28x28x6.\n",
    "    conv1_W = tf.Variable(tf.truncated_normal(shape=(5, 5, n_colors, 6), mean = mu, stddev = sigma))\n",
    "    conv1_b = tf.Variable(tf.zeros(6))\n",
    "    conv1   = tf.nn.conv2d(x, conv1_W, strides=[1, 1, 1, 1], padding='VALID') + conv1_b\n",
    "\n",
    "    conv1 = tf.nn.relu(conv1)\n",
    "\n",
    "    # Pooling. Input = 28x28x6. Output = 14x14x6.\n",
    "    conv1 = tf.nn.max_pool(conv1, ksize=[1, 2, 2, 1], strides=[1, 2, 2, 1], padding='VALID')\n",
    "\n",
    "    # Layer 2: Convolutional. Output = 10x10x16.\n",
    "    conv2_W = tf.Variable(tf.truncated_normal(shape=(5, 5, 6, 16*sizeFactor), mean = mu, stddev = sigma))\n",
    "    conv2_b = tf.Variable(tf.zeros(16*sizeFactor))\n",
    "    conv2   = tf.nn.conv2d(conv1, conv2_W, strides=[1, 1, 1, 1], padding='VALID') + conv2_b\n",
    "    \n",
    "    conv2 = tf.nn.relu(conv2)\n",
    "\n",
    "    # Pooling. Input = 10x10x16. Output = 5x5x16.\n",
    "    conv2 = tf.nn.max_pool(conv2, ksize=[1, 2, 2, 1], strides=[1, 2, 2, 1], padding='VALID')\n",
    "\n",
    "    # Flatten. Input = 5x5x16. Output = 400.\n",
    "    fc0   = flatten(conv2)\n",
    "    \n",
    "    # Layer 3: Fully Connected. Input = 400. Output = 120.\n",
    "    fc1_W = tf.Variable(tf.truncated_normal(shape=(400*sizeFactor, 120*sizeFactor), mean = mu, stddev = sigma))\n",
    "    fc1_b = tf.Variable(tf.zeros(120*sizeFactor))\n",
    "    fc1   = tf.matmul(fc0, fc1_W) + fc1_b\n",
    "    \n",
    "    # Activation.\n",
    "    fc1    = tf.nn.relu(fc1)\n",
    "\n",
    "    # Layer 4: Fully Connected. Input = 120. Output = 84.\n",
    "    fc2_W  = tf.Variable(tf.truncated_normal(shape=(120*sizeFactor, 84*sizeFactor), mean = mu, stddev = sigma))\n",
    "    fc2_b  = tf.Variable(tf.zeros(84*sizeFactor))\n",
    "    fc2    = tf.matmul(fc1, fc2_W) + fc2_b\n",
    "    \n",
    "    # Activation.\n",
    "    fc2    = tf.nn.relu(fc2)\n",
    "\n",
    "    fc2_drop = tf.nn.dropout(fc2, keep_prob)\n",
    "\n",
    "    # Layer 5: Fully Connected. Input = 84. Output = n_classes\n",
    "    fc3_W  = tf.Variable(tf.truncated_normal(shape=(84*sizeFactor, n_classes), mean = mu, stddev = sigma))\n",
    "    fc3_b  = tf.Variable(tf.zeros(n_classes))\n",
    "    logits = tf.matmul(fc2_drop, fc3_W) + fc3_b\n",
    "    \n",
    "    c1L2loss =  tf.nn.l2_loss(conv1_W)\n",
    "    c2L2loss =  tf.nn.l2_loss(conv2_W)\n",
    "    fc1L2loss = tf.nn.l2_loss(fc1_W)\n",
    "    fc2L2loss = tf.nn.l2_loss(fc2_W)\n",
    "    fc3L2loss = tf.nn.l2_loss(fc3_W)\n",
    "    L2loss = tf.add_n([fc1L2loss, fc2L2loss, fc3L2loss])\n",
    "    \n",
    "    return logits, conv1, conv2, fc1, fc2, L2loss"
   ]
  },
  {
   "cell_type": "markdown",
   "metadata": {},
   "source": [
    "### Train, Validate and Test the Model"
   ]
  },
  {
   "cell_type": "markdown",
   "metadata": {},
   "source": [
    "A validation set can be used to assess how well the model is performing. A low accuracy on the training and validation\n",
    "sets imply underfitting. A high accuracy on the training set but low accuracy on the validation set implies overfitting."
   ]
  },
  {
   "cell_type": "code",
   "execution_count": null,
   "metadata": {
    "collapsed": true
   },
   "outputs": [],
   "source": [
    "### Train your model here.\n",
    "### Calculate and report the accuracy on the training and validation set.\n",
    "### Once a final model architecture is selected, \n",
    "### the accuracy on the test set should be calculated and reported as well.\n",
    "### Feel free to use as many code cells as needed.\n",
    "x = tf.placeholder(tf.float32, (None, 32, 32, n_colors), name='x')\n",
    "y = tf.placeholder(tf.int32, (None), name='y')\n",
    "keep_prob = tf.placeholder(tf.float32, name='keep_prob')\n",
    "rate = 0.001\n",
    "logits, conv1, conv2, fc1, fc2, L2loss = LeNet(x, keep_prob)\n",
    "\n",
    "one_hot_y = tf.one_hot(y, n_classes)\n",
    "correct_prediction = tf.equal(tf.argmax(logits, 1), tf.argmax(one_hot_y, 1))\n",
    "accuracy_operation = tf.reduce_mean(tf.cast(correct_prediction, tf.float32))\n",
    "\n",
    "def evaluate(X_data, y_data):\n",
    "    num_examples = len(X_data)\n",
    "    total_accuracy = 0\n",
    "    sess = tf.get_default_session()\n",
    "    for offset in range(0, num_examples, BATCH_SIZE):\n",
    "        batch_x, batch_y = X_data[offset:offset+BATCH_SIZE], y_data[offset:offset+BATCH_SIZE]\n",
    "        accuracy = sess.run(accuracy_operation, feed_dict={x: batch_x, y: batch_y, keep_prob: 1.0})\n",
    "        total_accuracy += (accuracy * len(batch_x))\n",
    "    return total_accuracy / num_examples"
   ]
  },
  {
   "cell_type": "code",
   "execution_count": null,
   "metadata": {
    "collapsed": true
   },
   "outputs": [],
   "source": [
    "EPOCHS = 20\n",
    "BATCH_SIZE = 128"
   ]
  },
  {
   "cell_type": "code",
   "execution_count": null,
   "metadata": {
    "collapsed": true,
    "scrolled": true
   },
   "outputs": [],
   "source": [
    "def trainLeNet(logits, rate=0.001, regLambda=.01, dropout=0.5, logpath='train', epochs=EPOCHS, batch_size=BATCH_SIZE):\n",
    "    # tune  L2 regularization\n",
    "    reg_strength = tf.constant(regLambda, tf.float32, name='reg_strength')\n",
    "    cross_entropy = tf.nn.softmax_cross_entropy_with_logits(labels=one_hot_y, logits=logits)\n",
    "    prediction_loss = tf.reduce_mean(cross_entropy)\n",
    "    weights_loss = tf.multiply(reg_strength,L2loss)\n",
    "    loss_operation = tf.add(prediction_loss, weights_loss)\n",
    "    # loss_operation = tf.add(tf.reduce_mean(cross_entropy), tf.multiply(reg_strength,L2loss))\n",
    "    optimizer = tf.train.AdamOptimizer(learning_rate = rate)\n",
    "    training_operation = optimizer.minimize(loss_operation)\n",
    "\n",
    "    saver = tf.train.Saver()\n",
    "\n",
    "\n",
    "    tf.summary.scalar('prediction_loss',prediction_loss)\n",
    "    tf.summary.scalar('weight_loss',weights_loss)\n",
    "    tf.summary.scalar('accuracy',accuracy_operation)\n",
    "    merged = tf.summary.merge_all()\n",
    "\n",
    "    global X_train\n",
    "    global y_train\n",
    "    with tf.Session(config=tf.ConfigProto(log_device_placement=True)) as sess:\n",
    "        train_writer = tf.summary.FileWriter(logpath, sess.graph)\n",
    "\n",
    "\n",
    "        sess.run(tf.global_variables_initializer())\n",
    "    #     saver.restore(sess, tf.train.latest_checkpoint('.'))\n",
    "\n",
    "        num_examples = len(X_train)\n",
    "        iteration = 0\n",
    "\n",
    "        print(\"Training...\")\n",
    "        print()\n",
    "        for i in range(epochs):\n",
    "            losses = []\n",
    "            if KERAS:\n",
    "                batches = 0\n",
    "                for batch_x, batch_y in datagen.flow(X_train, y_train, batch_size=batch_size):\n",
    "                    _, summary = sess.run([training_operation, merged], feed_dict={x: batch_x, y: batch_y, keep_prob: dropout})\n",
    "                    train_writer.add_summary(summary, batches)\n",
    "\n",
    "                    batches += 1\n",
    "\n",
    "                    if batches >= len(X_train) / batch_size:\n",
    "                        # we need to break the loop by hand because\n",
    "                        # the generator loops indefinitely\n",
    "                        break\n",
    "            else:\n",
    "                X_train, y_train = shuffle(X_train, y_train)\n",
    "                for offset in range(0, num_examples, batch_size):\n",
    "                    end = offset + batch_size\n",
    "                    batch_x, batch_y = X_train[offset:end], y_train[offset:end]\n",
    "                    summary = sess.run([training_operation, merged], feed_dict={x: batch_x, y: batch_y, keep_prob: dropout})[1]\n",
    "                    train_writer.add_summary(summary, iteration)\n",
    "                    iteration += 1\n",
    "\n",
    "            validation_accuracy = evaluate(X_validation, y_validation)\n",
    "\n",
    "            print(\"EPOCH {} ...\".format(i+1))\n",
    "            print(\"Validation Accuracy = {:.3f}\".format(validation_accuracy))\n",
    "            print()\n",
    "\n",
    "\n",
    "        saver.save(sess, './lenet')\n",
    "        print(\"Model saved\")\n",
    "        train_writer.close()\n",
    "    return validation_accuracy"
   ]
  },
  {
   "cell_type": "code",
   "execution_count": null,
   "metadata": {},
   "outputs": [],
   "source": [
    "validationAcc = trainLeNet(logits, rate=0.001, regLambda=0.001, logpath='train', epochs=40)"
   ]
  },
  {
   "cell_type": "code",
   "execution_count": null,
   "metadata": {
    "scrolled": false
   },
   "outputs": [],
   "source": [
    "# for l in [1.0, 0.1, 0.05, 0.01, 0.005, 0.001, 0.0005]:\n",
    "#     print(\"lambda:\",l)\n",
    "#     validationAcc = trainLeNet(logits, rate=0.001, regLambda=l, logpath='train', epochs=40)\n",
    "\n",
    "# for d in [0.1, 0.25, 0.4, 0.5]:\n",
    "#     print(\"dropout:\",d)\n",
    "#     validationAcc = trainLeNet(logits, rate=0.001, regLambda=0.001, dropout=d, logpath='train', epochs=40)"
   ]
  },
  {
   "cell_type": "code",
   "execution_count": null,
   "metadata": {},
   "outputs": [],
   "source": [
    "with tf.Session(config=tf.ConfigProto(log_device_placement=True)) as sess:\n",
    "    saver = tf.train.Saver()\n",
    "    saver.restore(sess, tf.train.latest_checkpoint('.'))\n",
    "\n",
    "    if KERAS:\n",
    "        test_accuracy = evaluate(datagen.standardize(X_valid.astype('float32')), y_valid)\n",
    "    else:\n",
    "        test_accuracy = evaluate(X_test.astype('float32'), y_test)\n",
    "    print(\"Test Accuracy=  {:.3f}\".format(test_accuracy))"
   ]
  },
  {
   "cell_type": "code",
   "execution_count": null,
   "metadata": {
    "collapsed": true
   },
   "outputs": [],
   "source": []
  },
  {
   "cell_type": "markdown",
   "metadata": {},
   "source": [
    "---\n",
    "\n",
    "## Step 3: Test a Model on New Images\n",
    "\n",
    "To give yourself more insight into how your model is working, download at least five pictures of German traffic signs from the web and use your model to predict the traffic sign type.\n",
    "\n",
    "You may find `signnames.csv` useful as it contains mappings from the class id (integer) to the actual sign name."
   ]
  },
  {
   "cell_type": "markdown",
   "metadata": {},
   "source": [
    "### Load and Output the Images"
   ]
  },
  {
   "cell_type": "code",
   "execution_count": null,
   "metadata": {},
   "outputs": [],
   "source": [
    "### Load the images and plot them here.\n",
    "### Feel free to use as many code cells as needed.\n",
    "# import cv2\n",
    "import glob\n",
    "filenames = glob.glob(\"webimages/*.jpg\")\n",
    "print(filenames)\n",
    "n_images = len(filenames)\n",
    "webimages = np.zeros((n_images,32,32,3))\n",
    "\n",
    "for i,name in enumerate(filenames):\n",
    "    img = cv2.imread(name)\n",
    "    img = cv2.cvtColor(img, cv2.COLOR_BGR2RGB)\n",
    "    img = cv2.resize(img, (32,32), interpolation=cv2.INTER_AREA)\n",
    "    img = cv2.cvtColor(img, cv2.COLOR_RGB2HSV)\n",
    "    img = preprocess(img)\n",
    "    plt.subplot(1,6,i+1)\n",
    "    plt.imshow(hsv_to_rgb(img/255.))\n",
    "    plt.axis('off')\n",
    "    webimages[i,:,:,:]  = img\n",
    "\n",
    "webimages = (webimages - 128.) / 128.\n",
    "\n",
    "y_webimages = np.array([28, 4, 38, 22, 35], np.uint8)"
   ]
  },
  {
   "cell_type": "markdown",
   "metadata": {},
   "source": [
    "### Predict the Sign Type for Each Image"
   ]
  },
  {
   "cell_type": "code",
   "execution_count": null,
   "metadata": {},
   "outputs": [],
   "source": [
    "### Run the predictions here and use the model to output the prediction for each image.\n",
    "### Make sure to pre-process the images with the same pre-processing pipeline used earlier.\n",
    "### Feel free to use as many code cells as needed.\n",
    "psoftmax = tf.nn.softmax(logits)\n",
    "\n",
    "predicted_category = tf.argmax(logits, 1)\n",
    "\n",
    "def get_predictions(X_data):\n",
    "    num_examples = len(X_data)\n",
    "    total_accuracy = 0\n",
    "    sess = tf.get_default_session()\n",
    "    predictions = np.zeros(X_data.shape[0])\n",
    "\n",
    "    for offset in range(0, num_examples, BATCH_SIZE):\n",
    "        batch_x = X_data[offset:offset+BATCH_SIZE]\n",
    "        pcat = sess.run([predicted_category], feed_dict={x: batch_x, keep_prob: 1.0})\n",
    "        predictions[offset:offset+BATCH_SIZE] = pcat[0]\n",
    "    return predictions\n",
    "\n",
    "with tf.Session(config=tf.ConfigProto(log_device_placement=True)) as sess:\n",
    "    saver = tf.train.Saver()\n",
    "    saver.restore(sess, tf.train.latest_checkpoint('.'))\n",
    "    predictions = get_predictions(webimages)\n",
    "\n",
    "print(predictions)"
   ]
  },
  {
   "cell_type": "markdown",
   "metadata": {},
   "source": [
    "### Analyze Performance"
   ]
  },
  {
   "cell_type": "code",
   "execution_count": null,
   "metadata": {},
   "outputs": [],
   "source": [
    "### Calculate the accuracy for these 5 new images. \n",
    "### For example, if the model predicted 1 out of 5 signs correctly, it's 20% accurate on these new images.\n",
    "webimages_accuracy = np.sum(predictions == y_webimages) / len(y_webimages)\n",
    "print(\"accuracy:\", webimages_accuracy)"
   ]
  },
  {
   "cell_type": "markdown",
   "metadata": {},
   "source": [
    "### Output Top 5 Softmax Probabilities For Each Image Found on the Web"
   ]
  },
  {
   "cell_type": "markdown",
   "metadata": {},
   "source": [
    "For each of the new images, print out the model's softmax probabilities to show the **certainty** of the model's predictions (limit the output to the top 5 probabilities for each image). [`tf.nn.top_k`](https://www.tensorflow.org/versions/r0.12/api_docs/python/nn.html#top_k) could prove helpful here. \n",
    "\n",
    "The example below demonstrates how tf.nn.top_k can be used to find the top k predictions for each image.\n",
    "\n",
    "`tf.nn.top_k` will return the values and indices (class ids) of the top k predictions. So if k=3, for each sign, it'll return the 3 largest probabilities (out of a possible 43) and the correspoding class ids.\n",
    "\n",
    "Take this numpy array as an example. The values in the array represent predictions. The array contains softmax probabilities for five candidate images with six possible classes. `tk.nn.top_k` is used to choose the three classes with the highest probability:\n",
    "\n",
    "```\n",
    "# (5, 6) array\n",
    "a = np.array([[ 0.24879643,  0.07032244,  0.12641572,  0.34763842,  0.07893497,\n",
    "         0.12789202],\n",
    "       [ 0.28086119,  0.27569815,  0.08594638,  0.0178669 ,  0.18063401,\n",
    "         0.15899337],\n",
    "       [ 0.26076848,  0.23664738,  0.08020603,  0.07001922,  0.1134371 ,\n",
    "         0.23892179],\n",
    "       [ 0.11943333,  0.29198961,  0.02605103,  0.26234032,  0.1351348 ,\n",
    "         0.16505091],\n",
    "       [ 0.09561176,  0.34396535,  0.0643941 ,  0.16240774,  0.24206137,\n",
    "         0.09155967]])\n",
    "```\n",
    "\n",
    "Running it through `sess.run(tf.nn.top_k(tf.constant(a), k=3))` produces:\n",
    "\n",
    "```\n",
    "TopKV2(values=array([[ 0.34763842,  0.24879643,  0.12789202],\n",
    "       [ 0.28086119,  0.27569815,  0.18063401],\n",
    "       [ 0.26076848,  0.23892179,  0.23664738],\n",
    "       [ 0.29198961,  0.26234032,  0.16505091],\n",
    "       [ 0.34396535,  0.24206137,  0.16240774]]), indices=array([[3, 0, 5],\n",
    "       [0, 1, 4],\n",
    "       [0, 5, 1],\n",
    "       [1, 3, 5],\n",
    "       [1, 4, 3]], dtype=int32))\n",
    "```\n",
    "\n",
    "Looking just at the first row we get `[ 0.34763842,  0.24879643,  0.12789202]`, you can confirm these are the 3 largest probabilities in `a`. You'll also notice `[3, 0, 5]` are the corresponding indices."
   ]
  },
  {
   "cell_type": "code",
   "execution_count": null,
   "metadata": {},
   "outputs": [],
   "source": [
    "topk = tf.nn.top_k(psoftmax, k=5)\n",
    "with tf.Session(config=tf.ConfigProto(log_device_placement=True)) as sess:\n",
    "    saver = tf.train.Saver()\n",
    "    saver.restore(sess, tf.train.latest_checkpoint('.'))\n",
    "    topk_softmax = sess.run(topk, feed_dict={x: webimages, keep_prob: 1.0})\n",
    "\n",
    "    print(topk_softmax)"
   ]
  },
  {
   "cell_type": "code",
   "execution_count": null,
   "metadata": {
    "scrolled": true
   },
   "outputs": [],
   "source": [
    "from pandas_ml import ConfusionMatrix\n",
    "### Print out the top five softmax probabilities for the predictions on the German traffic sign images found on the web. \n",
    "### Feel free to use as many code cells as needed.\n",
    "\n",
    "with tf.Session(config=tf.ConfigProto(log_device_placement=True)) as sess:\n",
    "    saver = tf.train.Saver()\n",
    "    saver.restore(sess, tf.train.latest_checkpoint('.'))\n",
    "    if KERAS:\n",
    "        predictions = get_predictions(datagen.standardize(X_valid.astype('float32')))\n",
    "    else:\n",
    "        predictions = get_predictions(X_valid)\n",
    "    \n",
    "#     confusion_matrix = np.zeros((n_classes,n_classes))\n",
    "#     for i in np.arange(n_classes):\n",
    "#         catidx = np.nonzero(y_valid == i) # all reference indices of category i\n",
    "#         for predi in np.arange(n_classes):\n",
    "#             confusion_matrix[i, predi] = np.sum(predictions[catidx] == predi)\n",
    "    confusion_matrix = ConfusionMatrix(y_valid, predictions)\n",
    "    print(\"Confusion matrix:\\n{}\".format(confusion_matrix))\n",
    "    confusion_matrix.plot()\n",
    "    confusion_matrix"
   ]
  },
  {
   "cell_type": "code",
   "execution_count": null,
   "metadata": {
    "collapsed": true
   },
   "outputs": [],
   "source": []
  },
  {
   "cell_type": "markdown",
   "metadata": {},
   "source": [
    "### Project Writeup\n",
    "\n",
    "Once you have completed the code implementation, document your results in a project writeup using this [template](https://github.com/udacity/CarND-Traffic-Sign-Classifier-Project/blob/master/writeup_template.md) as a guide. The writeup can be in a markdown or pdf file. "
   ]
  },
  {
   "cell_type": "markdown",
   "metadata": {},
   "source": [
    "> **Note**: Once you have completed all of the code implementations and successfully answered each question above, you may finalize your work by exporting the iPython Notebook as an HTML document. You can do this by using the menu above and navigating to  \\n\",\n",
    "    \"**File -> Download as -> HTML (.html)**. Include the finished document along with this notebook as your submission."
   ]
  },
  {
   "cell_type": "markdown",
   "metadata": {},
   "source": [
    "---\n",
    "\n",
    "## Step 4 (Optional): Visualize the Neural Network's State with Test Images\n",
    "\n",
    " This Section is not required to complete but acts as an additional excersise for understaning the output of a neural network's weights. While neural networks can be a great learning device they are often referred to as a black box. We can understand what the weights of a neural network look like better by plotting their feature maps. After successfully training your neural network you can see what it's feature maps look like by plotting the output of the network's weight layers in response to a test stimuli image. From these plotted feature maps, it's possible to see what characteristics of an image the network finds interesting. For a sign, maybe the inner network feature maps react with high activation to the sign's boundary outline or to the contrast in the sign's painted symbol.\n",
    "\n",
    " Provided for you below is the function code that allows you to get the visualization output of any tensorflow weight layer you want. The inputs to the function should be a stimuli image, one used during training or a new one you provided, and then the tensorflow variable name that represents the layer's state during the training process, for instance if you wanted to see what the [LeNet lab's](https://classroom.udacity.com/nanodegrees/nd013/parts/fbf77062-5703-404e-b60c-95b78b2f3f9e/modules/6df7ae49-c61c-4bb2-a23e-6527e69209ec/lessons/601ae704-1035-4287-8b11-e2c2716217ad/concepts/d4aca031-508f-4e0b-b493-e7b706120f81) feature maps looked like for it's second convolutional layer you could enter conv2 as the tf_activation variable.\n",
    "\n",
    "For an example of what feature map outputs look like, check out NVIDIA's results in their paper [End-to-End Deep Learning for Self-Driving Cars](https://devblogs.nvidia.com/parallelforall/deep-learning-self-driving-cars/) in the section Visualization of internal CNN State. NVIDIA was able to show that their network's inner weights had high activations to road boundary lines by comparing feature maps from an image with a clear path to one without. Try experimenting with a similar test to show that your trained network's weights are looking for interesting features, whether it's looking at differences in feature maps from images with or without a sign, or even what feature maps look like in a trained network vs a completely untrained one on the same sign image.\n",
    "\n",
    "<figure>\n",
    " <img src=\"visualize_cnn.png\" width=\"380\" alt=\"Combined Image\" />\n",
    " <figcaption>\n",
    " <p></p> \n",
    " <p style=\"text-align: center;\"> Your output should look something like this (above)</p> \n",
    " </figcaption>\n",
    "</figure>\n",
    " <p></p> \n"
   ]
  },
  {
   "cell_type": "code",
   "execution_count": null,
   "metadata": {
    "collapsed": true
   },
   "outputs": [],
   "source": [
    "### Visualize your network's feature maps here.\n",
    "### Feel free to use as many code cells as needed.\n",
    "\n",
    "# image_input: the test image being fed into the network to produce the feature maps\n",
    "# tf_activation: should be a tf variable name used during your training procedure that represents the calculated state of a specific weight layer\n",
    "# activation_min/max: can be used to view the activation contrast in more detail, by default matplot sets min and max to the actual min and max values of the output\n",
    "# plt_num: used to plot out multiple different weight feature map sets on the same block, just extend the plt number for each new feature map entry\n",
    "\n",
    "def outputFeatureMap(sess, image_input, tf_activation, activation_min=-1, activation_max=-1 ,plt_num=1, img_idx=0):\n",
    "    # Here make sure to preprocess your image_input in a way your network expects\n",
    "    # with size, normalization, ect if needed\n",
    "    # image_input =\n",
    "    # Note: x should be the same name as your network's tensorflow data placeholder variable\n",
    "    # If you get an error tf_activation is not defined it may be having trouble accessing the variable from inside a function\n",
    "    activation = tf_activation.eval(session=sess,feed_dict={x : image_input})\n",
    "    featuremaps = activation.shape[3]\n",
    "    plt.figure(plt_num, figsize=(15,15))\n",
    "    for featuremap in range(featuremaps):\n",
    "        plt.subplot(6,8, featuremap+1) # sets the number of feature maps to show on each row and column\n",
    "        plt.title('FeatureMap ' + str(featuremap)) # displays the feature map number\n",
    "        if activation_min != -1 & activation_max != -1:\n",
    "            plt.imshow(activation[img_idx,:,:, featuremap], interpolation=\"nearest\", vmin =activation_min, vmax=activation_max, cmap=\"gray\")\n",
    "        elif activation_max != -1:\n",
    "            plt.imshow(activation[img_idx,:,:, featuremap], interpolation=\"nearest\", vmax=activation_max, cmap=\"gray\")\n",
    "        elif activation_min !=-1:\n",
    "            plt.imshow(activation[img_idx,:,:, featuremap], interpolation=\"nearest\", vmin=activation_min, cmap=\"gray\")\n",
    "        else:\n",
    "            plt.imshow(activation[img_idx,:,:, featuremap], interpolation=\"nearest\", cmap=\"gray\")"
   ]
  },
  {
   "cell_type": "code",
   "execution_count": null,
   "metadata": {},
   "outputs": [],
   "source": [
    "with tf.Session(config=tf.ConfigProto(log_device_placement=True)) as sess:\n",
    "    saver.restore(sess, tf.train.latest_checkpoint('.'))\n",
    "    print(\"conv1 activations\")\n",
    "    outputFeatureMap(sess, X_valid[:,:,:,:], conv1, img_idx=100)\n",
    "    plt.show()\n",
    "    print(\"conv2 activations\")\n",
    "    outputFeatureMap(sess, X_valid[:,:,:,:], conv2, img_idx=100)\n",
    "    plt.show()"
   ]
  },
  {
   "cell_type": "code",
   "execution_count": null,
   "metadata": {
    "collapsed": true
   },
   "outputs": [],
   "source": []
  }
 ],
 "metadata": {
  "anaconda-cloud": {},
  "kernelspec": {
   "display_name": "Python 3",
   "language": "python",
   "name": "python3"
  },
  "language_info": {
   "codemirror_mode": {
    "name": "ipython",
    "version": 3
   },
   "file_extension": ".py",
   "mimetype": "text/x-python",
   "name": "python",
   "nbconvert_exporter": "python",
   "pygments_lexer": "ipython3",
   "version": "3.5.2"
  },
  "widgets": {
   "state": {},
   "version": "1.1.2"
  }
 },
 "nbformat": 4,
 "nbformat_minor": 1
}

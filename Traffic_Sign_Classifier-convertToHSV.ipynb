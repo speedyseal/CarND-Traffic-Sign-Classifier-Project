{
 "cells": [
  {
   "cell_type": "markdown",
   "metadata": {
    "deletable": true,
    "editable": true
   },
   "source": [
    "# Self-Driving Car Engineer Nanodegree\n",
    "\n",
    "## Deep Learning\n",
    "\n",
    "## Project: Build a Traffic Sign Recognition Classifier\n",
    "\n",
    "Load image files, convert to HSV, save as HSV"
   ]
  },
  {
   "cell_type": "markdown",
   "metadata": {
    "deletable": true,
    "editable": true
   },
   "source": [
    "---\n",
    "## Step 0: Load The Data"
   ]
  },
  {
   "cell_type": "code",
   "execution_count": 3,
   "metadata": {
    "collapsed": true,
    "deletable": true,
    "editable": true
   },
   "outputs": [],
   "source": [
    "# Load pickled data\n",
    "import pickle\n",
    "import numpy as np\n",
    "\n",
    "# TODO: Fill this in based on where you saved the training and testing data\n",
    "\n",
    "training_file = \"traffic-signs-data/train.p\"\n",
    "validation_file= \"traffic-signs-data/valid.p\"\n",
    "testing_file = \"traffic-signs-data/test.p\"\n",
    "\n",
    "with open(training_file, mode='rb') as f:\n",
    "    train = pickle.load(f)\n",
    "with open(validation_file, mode='rb') as f:\n",
    "    valid = pickle.load(f)\n",
    "with open(testing_file, mode='rb') as f:\n",
    "    test = pickle.load(f)\n",
    "    \n",
    "X_train, y_train = train['features'], train['labels']\n",
    "X_valid, y_valid = valid['features'], valid['labels']\n",
    "X_test, y_test = test['features'], test['labels']"
   ]
  },
  {
   "cell_type": "markdown",
   "metadata": {
    "deletable": true,
    "editable": true
   },
   "source": [
    "---\n",
    "\n",
    "## Step 1: Dataset Summary & Exploration\n",
    "\n",
    "The pickled data is a dictionary with 4 key/value pairs:\n",
    "\n",
    "- `'features'` is a 4D array containing raw pixel data of the traffic sign images, (num examples, width, height, channels).\n",
    "- `'labels'` is a 1D array containing the label/class id of the traffic sign. The file `signnames.csv` contains id -> name mappings for each id.\n",
    "- `'sizes'` is a list containing tuples, (width, height) representing the original width and height the image.\n",
    "- `'coords'` is a list containing tuples, (x1, y1, x2, y2) representing coordinates of a bounding box around the sign in the image. **THESE COORDINATES ASSUME THE ORIGINAL IMAGE. THE PICKLED DATA CONTAINS RESIZED VERSIONS (32 by 32) OF THESE IMAGES**\n",
    "\n",
    "Complete the basic data summary below. Use python, numpy and/or pandas methods to calculate the data summary rather than hard coding the results. For example, the [pandas shape method](http://pandas.pydata.org/pandas-docs/stable/generated/pandas.DataFrame.shape.html) might be useful for calculating some of the summary results. "
   ]
  },
  {
   "cell_type": "markdown",
   "metadata": {
    "deletable": true,
    "editable": true
   },
   "source": [
    "### Convert to HSV"
   ]
  },
  {
   "cell_type": "code",
   "execution_count": 4,
   "metadata": {
    "collapsed": false,
    "deletable": true,
    "editable": true
   },
   "outputs": [
    {
     "name": "stdout",
     "output_type": "stream",
     "text": [
      "X_train shape: (34799, 32, 32, 3)\n",
      "X_test shape: (12630, 32, 32, 3)\n"
     ]
    }
   ],
   "source": [
    "import cv2\n",
    "\n",
    "X_train, y_train = train['features'], train['labels']\n",
    "X_valid, y_valid = valid['features'], valid['labels']\n",
    "X_test, y_test = test['features'], test['labels']\n",
    "\n",
    "print(\"X_train shape: {}\".format(X_train.shape))\n",
    "print(\"X_test shape: {}\".format(X_test.shape))\n",
    "\n",
    "# TODO: Number of training examples\n",
    "n_train = X_train.shape[0]\n",
    "\n",
    "# TODO: Number of validation examples\n",
    "n_validation = X_valid.shape[0]\n",
    "\n",
    "# TODO: Number of testing examples.\n",
    "n_test = X_test.shape[0]\n",
    "\n",
    "X_train_hsv = np.zeros_like(X_train)\n",
    "X_valid_hsv = np.zeros_like(X_valid)\n",
    "X_test_hsv = np.zeros_like(X_test)\n",
    "\n",
    "for i in range(n_train):\n",
    "    X_train_hsv[i,:,:,:] = cv2.cvtColor(X_train[i,:,:,:], cv2.COLOR_RGB2HSV)\n",
    "\n",
    "for i in range(n_validation):\n",
    "    X_valid_hsv[i,:,:,:] = cv2.cvtColor(X_valid[i,:,:,:], cv2.COLOR_RGB2HSV)\n",
    "\n",
    "for i in range(n_test):\n",
    "    X_test_hsv[i,:,:,:] = cv2.cvtColor(X_test[i,:,:,:], cv2.COLOR_RGB2HSV)\n",
    "\n",
    "train['features'] = X_train_hsv\n",
    "valid['features'] = X_valid_hsv\n",
    "test['features'] = X_test_hsv\n"
   ]
  },
  {
   "cell_type": "code",
   "execution_count": 5,
   "metadata": {
    "collapsed": false,
    "deletable": true,
    "editable": true
   },
   "outputs": [],
   "source": [
    "WRITE = False\n",
    "if WRITE:\n",
    "    hsv_training_file = \"traffic-signs-data/train_hsv.p\"\n",
    "    hsv_validation_file= \"traffic-signs-data/valid_hsv.p\"\n",
    "    hsv_testing_file = \"traffic-signs-data/test_hsv.p\"\n",
    "\n",
    "    with open(hsv_training_file, mode='wb') as f:\n",
    "        pickle.dump(train, f)\n",
    "    with open(hsv_validation_file, mode='wb') as f:\n",
    "        pickle.dump(valid, f)\n",
    "    with open(hsv_testing_file, mode='wb') as f:\n",
    "        pickle.dump(test, f)\n"
   ]
  },
  {
   "cell_type": "code",
   "execution_count": 12,
   "metadata": {
    "collapsed": false,
    "deletable": true,
    "editable": true
   },
   "outputs": [
    {
     "data": {
      "image/png": "[encoded data removed]",
      "text/plain": [
       "<matplotlib.figure.Figure at 0x12fecda20>"
      ]
     },
     "metadata": {},
     "output_type": "display_data"
    },
    {
     "name": "stdout",
     "output_type": "stream",
     "text": [
      "[[ 17  18  18 ...,   0   0   0]\n",
      " [ 17  19  18 ...,   0   0   0]\n",
      " [ 17  18  19 ...,   0   0   0]\n",
      " ..., \n",
      " [ 26  25  23 ..., 101  99 120]\n",
      " [ 20  22  23 ...,  99  97 108]\n",
      " [ 15  18  22 ...,  60  78  73]]\n",
      "[[ 96 121 124 ...,   0   0   0]\n",
      " [110 128 125 ...,   0   0   0]\n",
      " [107 122 122 ...,   0   0   0]\n",
      " ..., \n",
      " [ 86  94  88 ...,  51  48   7]\n",
      " [110 113 101 ...,  63  77  16]\n",
      " [123 111  98 ...,  50  64  21]]\n",
      "[[197 189 198 ..., 255 255 255]\n",
      " [170 177 185 ..., 255 255 255]\n",
      " [165 163 169 ..., 255 255 255]\n",
      " ..., \n",
      " [119 122 131 ..., 105  90  73]\n",
      " [135 131 129 ...,  57  56  80]\n",
      " [154 149 136 ...,  51  68  86]]\n"
     ]
    },
    {
     "data": {
      "image/png": "[encoded data removed]",
      "text/plain": [
       "<matplotlib.figure.Figure at 0x13003cba8>"
      ]
     },
     "metadata": {},
     "output_type": "display_data"
    },
    {
     "data": {
      "image/png": "[encoded data removed]",
      "text/plain": [
       "<matplotlib.figure.Figure at 0x1300fcef0>"
      ]
     },
     "metadata": {},
     "output_type": "display_data"
    },
    {
     "data": {
      "image/png": "[encoded data removed]",
      "text/plain": [
       "<matplotlib.figure.Figure at 0x12fef4d30>"
      ]
     },
     "metadata": {},
     "output_type": "display_data"
    },
    {
     "name": "stdout",
     "output_type": "stream",
     "text": [
      "255\n"
     ]
    }
   ],
   "source": [
    "import matplotlib.pyplot as plt\n",
    "from matplotlib.colors import hsv_to_rgb\n",
    "ind = 100\n",
    "\n",
    "img = X_train[ind,:,:,:]\n",
    "\n",
    "plt.imshow(img)\n",
    "plt.show()\n",
    "\n",
    "imghsv = X_train_hsv[ind,:,:,:]\n",
    "\n",
    "print(imghsv[:,:,0])\n",
    "print(imghsv[:,:,1])\n",
    "print(imghsv[:,:,2])\n",
    "\n",
    "plt.imshow(imghsv)\n",
    "plt.show()\n",
    "\n",
    "imgrgb = cv2.cvtColor(imghsv, cv2.COLOR_HSV2RGB)\n",
    "\n",
    "plt.imshow(imgrgb)\n",
    "plt.show()\n",
    "\n",
    "plt.imshow(hsv_to_rgb(imghsv/255.))\n",
    "plt.show()\n",
    "\n",
    "print(np.max(X_train_hsv))"
   ]
  }
 ],
 "metadata": {
  "anaconda-cloud": {},
  "kernelspec": {
   "display_name": "Python 3",
   "language": "python",
   "name": "python3"
  },
  "language_info": {
   "codemirror_mode": {
    "name": "ipython",
    "version": 3
   },
   "file_extension": ".py",
   "mimetype": "text/x-python",
   "name": "python",
   "nbconvert_exporter": "python",
   "pygments_lexer": "ipython3",
   "version": "3.5.2"
  },
  "widgets": {
   "state": {},
   "version": "1.1.2"
  }
 },
 "nbformat": 4,
 "nbformat_minor": 1
}
